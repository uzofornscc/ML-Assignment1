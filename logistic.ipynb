{
 "cells": [
  {
   "cell_type": "code",
   "execution_count": 1,
   "id": "d6174c4b-4117-449e-85f1-7d0e7d66765e",
   "metadata": {},
   "outputs": [],
   "source": [
    "# STEP 1: Import necessary packages\n",
    "import pandas as pd\n",
    "import numpy as np\n",
    "from sklearn.preprocessing import OneHotEncoder\n",
    "from sklearn.compose import ColumnTransformer\n",
    "from sklearn.model_selection import train_test_split\n",
    "from sklearn.preprocessing import StandardScaler\n",
    "from sklearn.pipeline import Pipeline\n",
    "\n",
    "from sklearn.impute import SimpleImputer\n",
    "from sklearn.linear_model import LogisticRegression\n",
    "from sklearn.ensemble import RandomForestClassifier\n",
    "from sklearn.metrics import (\n",
    "    accuracy_score, classification_report, confusion_matrix\n",
    ")\n",
    "import matplotlib.pyplot as plt\n",
    "import seaborn as sns"
   ]
  },
  {
   "cell_type": "markdown",
   "id": "579e3f69-9795-47f2-8b13-d507bcd2dec3",
   "metadata": {},
   "source": [
    "### Loading the Dataset (from CSV)"
   ]
  },
  {
   "cell_type": "code",
   "execution_count": 2,
   "id": "5b425d97-e960-4900-ba9d-ccaa5420ab6e",
   "metadata": {},
   "outputs": [
    {
     "data": {
      "text/html": [
       "<div>\n",
       "<style scoped>\n",
       "    .dataframe tbody tr th:only-of-type {\n",
       "        vertical-align: middle;\n",
       "    }\n",
       "\n",
       "    .dataframe tbody tr th {\n",
       "        vertical-align: top;\n",
       "    }\n",
       "\n",
       "    .dataframe thead th {\n",
       "        text-align: right;\n",
       "    }\n",
       "</style>\n",
       "<table border=\"1\" class=\"dataframe\">\n",
       "  <thead>\n",
       "    <tr style=\"text-align: right;\">\n",
       "      <th></th>\n",
       "      <th>Number of Doctors Visited</th>\n",
       "      <th>Age</th>\n",
       "      <th>Phyiscal Health</th>\n",
       "      <th>Mental Health</th>\n",
       "      <th>Dental Health</th>\n",
       "      <th>Employment</th>\n",
       "      <th>Stress Keeps Patient from Sleeping</th>\n",
       "      <th>Medication Keeps Patient from Sleeping</th>\n",
       "      <th>Pain Keeps Patient from Sleeping</th>\n",
       "      <th>Bathroom Needs Keeps Patient from Sleeping</th>\n",
       "      <th>Uknown Keeps Patient from Sleeping</th>\n",
       "      <th>Trouble Sleeping</th>\n",
       "      <th>Prescription Sleep Medication</th>\n",
       "      <th>Race</th>\n",
       "      <th>Gender</th>\n",
       "    </tr>\n",
       "  </thead>\n",
       "  <tbody>\n",
       "    <tr>\n",
       "      <th>0</th>\n",
       "      <td>3</td>\n",
       "      <td>2</td>\n",
       "      <td>4</td>\n",
       "      <td>3</td>\n",
       "      <td>3</td>\n",
       "      <td>3</td>\n",
       "      <td>0</td>\n",
       "      <td>0</td>\n",
       "      <td>0</td>\n",
       "      <td>0</td>\n",
       "      <td>1</td>\n",
       "      <td>2</td>\n",
       "      <td>3</td>\n",
       "      <td>1</td>\n",
       "      <td>2</td>\n",
       "    </tr>\n",
       "    <tr>\n",
       "      <th>1</th>\n",
       "      <td>2</td>\n",
       "      <td>2</td>\n",
       "      <td>4</td>\n",
       "      <td>2</td>\n",
       "      <td>3</td>\n",
       "      <td>3</td>\n",
       "      <td>1</td>\n",
       "      <td>0</td>\n",
       "      <td>0</td>\n",
       "      <td>1</td>\n",
       "      <td>0</td>\n",
       "      <td>3</td>\n",
       "      <td>3</td>\n",
       "      <td>1</td>\n",
       "      <td>1</td>\n",
       "    </tr>\n",
       "    <tr>\n",
       "      <th>2</th>\n",
       "      <td>3</td>\n",
       "      <td>2</td>\n",
       "      <td>3</td>\n",
       "      <td>2</td>\n",
       "      <td>3</td>\n",
       "      <td>3</td>\n",
       "      <td>0</td>\n",
       "      <td>0</td>\n",
       "      <td>0</td>\n",
       "      <td>0</td>\n",
       "      <td>1</td>\n",
       "      <td>3</td>\n",
       "      <td>3</td>\n",
       "      <td>4</td>\n",
       "      <td>1</td>\n",
       "    </tr>\n",
       "    <tr>\n",
       "      <th>3</th>\n",
       "      <td>1</td>\n",
       "      <td>2</td>\n",
       "      <td>3</td>\n",
       "      <td>2</td>\n",
       "      <td>3</td>\n",
       "      <td>3</td>\n",
       "      <td>0</td>\n",
       "      <td>0</td>\n",
       "      <td>0</td>\n",
       "      <td>1</td>\n",
       "      <td>0</td>\n",
       "      <td>3</td>\n",
       "      <td>3</td>\n",
       "      <td>4</td>\n",
       "      <td>2</td>\n",
       "    </tr>\n",
       "    <tr>\n",
       "      <th>4</th>\n",
       "      <td>3</td>\n",
       "      <td>2</td>\n",
       "      <td>3</td>\n",
       "      <td>3</td>\n",
       "      <td>3</td>\n",
       "      <td>3</td>\n",
       "      <td>1</td>\n",
       "      <td>0</td>\n",
       "      <td>0</td>\n",
       "      <td>0</td>\n",
       "      <td>0</td>\n",
       "      <td>2</td>\n",
       "      <td>3</td>\n",
       "      <td>1</td>\n",
       "      <td>2</td>\n",
       "    </tr>\n",
       "  </tbody>\n",
       "</table>\n",
       "</div>"
      ],
      "text/plain": [
       "   Number of Doctors Visited  Age  Phyiscal Health  Mental Health  \\\n",
       "0                          3    2                4              3   \n",
       "1                          2    2                4              2   \n",
       "2                          3    2                3              2   \n",
       "3                          1    2                3              2   \n",
       "4                          3    2                3              3   \n",
       "\n",
       "   Dental Health  Employment  Stress Keeps Patient from Sleeping  \\\n",
       "0              3           3                                   0   \n",
       "1              3           3                                   1   \n",
       "2              3           3                                   0   \n",
       "3              3           3                                   0   \n",
       "4              3           3                                   1   \n",
       "\n",
       "   Medication Keeps Patient from Sleeping  Pain Keeps Patient from Sleeping  \\\n",
       "0                                       0                                 0   \n",
       "1                                       0                                 0   \n",
       "2                                       0                                 0   \n",
       "3                                       0                                 0   \n",
       "4                                       0                                 0   \n",
       "\n",
       "   Bathroom Needs Keeps Patient from Sleeping  \\\n",
       "0                                           0   \n",
       "1                                           1   \n",
       "2                                           0   \n",
       "3                                           1   \n",
       "4                                           0   \n",
       "\n",
       "   Uknown Keeps Patient from Sleeping  Trouble Sleeping  \\\n",
       "0                                   1                 2   \n",
       "1                                   0                 3   \n",
       "2                                   1                 3   \n",
       "3                                   0                 3   \n",
       "4                                   0                 2   \n",
       "\n",
       "   Prescription Sleep Medication  Race  Gender  \n",
       "0                              3     1       2  \n",
       "1                              3     1       1  \n",
       "2                              3     4       1  \n",
       "3                              3     4       2  \n",
       "4                              3     1       2  "
      ]
     },
     "execution_count": 2,
     "metadata": {},
     "output_type": "execute_result"
    }
   ],
   "source": [
    "# Load the dataset\n",
    "df = pd.read_csv('NPHA-doctor-visits.csv')\n",
    "\n",
    "# Inspect the data\n",
    "df.head()"
   ]
  },
  {
   "cell_type": "code",
   "execution_count": 3,
   "id": "10b374b2-f596-4c82-9ac5-473c97d375dc",
   "metadata": {},
   "outputs": [
    {
     "name": "stdout",
     "output_type": "stream",
     "text": [
      "<class 'pandas.core.frame.DataFrame'>\n",
      "RangeIndex: 714 entries, 0 to 713\n",
      "Data columns (total 15 columns):\n",
      " #   Column                                      Non-Null Count  Dtype\n",
      "---  ------                                      --------------  -----\n",
      " 0   Number of Doctors Visited                   714 non-null    int64\n",
      " 1   Age                                         714 non-null    int64\n",
      " 2   Phyiscal Health                             714 non-null    int64\n",
      " 3   Mental Health                               714 non-null    int64\n",
      " 4   Dental Health                               714 non-null    int64\n",
      " 5   Employment                                  714 non-null    int64\n",
      " 6   Stress Keeps Patient from Sleeping          714 non-null    int64\n",
      " 7   Medication Keeps Patient from Sleeping      714 non-null    int64\n",
      " 8   Pain Keeps Patient from Sleeping            714 non-null    int64\n",
      " 9   Bathroom Needs Keeps Patient from Sleeping  714 non-null    int64\n",
      " 10  Uknown Keeps Patient from Sleeping          714 non-null    int64\n",
      " 11  Trouble Sleeping                            714 non-null    int64\n",
      " 12  Prescription Sleep Medication               714 non-null    int64\n",
      " 13  Race                                        714 non-null    int64\n",
      " 14  Gender                                      714 non-null    int64\n",
      "dtypes: int64(15)\n",
      "memory usage: 83.8 KB\n"
     ]
    }
   ],
   "source": [
    "# Check data info\n",
    "df.info()"
   ]
  },
  {
   "cell_type": "markdown",
   "id": "56eaccb7-8030-4a5c-afdd-5f0548502535",
   "metadata": {},
   "source": [
    "### Clean and prepare the data"
   ]
  },
  {
   "cell_type": "code",
   "execution_count": 4,
   "id": "5dd686e1-ab85-4985-aeda-ee5e2c2151be",
   "metadata": {},
   "outputs": [
    {
     "data": {
      "text/plain": [
       "Trouble_Sleeping\n",
       "3.0    359\n",
       "2.0    291\n",
       "1.0     62\n",
       "Name: count, dtype: int64"
      ]
     },
     "execution_count": 4,
     "metadata": {},
     "output_type": "execute_result"
    }
   ],
   "source": [
    "# Replace \"Refused\" or coded missing values with NaN\n",
    "df.replace([-1, -2, 'Refused', 'Not asked'], np.nan, inplace=True)\n",
    "\n",
    "# Clean column names for easier referencing\n",
    "df.columns = df.columns.str.strip().str.replace(' ', '_')\n",
    "\n",
    "# Correct spelling of column\n",
    "df = df.rename(columns={'Phyiscal_Health': 'Physical_Health'})\n",
    "\n",
    "# Verify that your target column exists\n",
    "df['Trouble_Sleeping'].value_counts()"
   ]
  },
  {
   "cell_type": "markdown",
   "id": "3ff265c6-70a2-4604-bc72-24fbe0bbe840",
   "metadata": {},
   "source": [
    "### Feature Engineering and preprocessing\n",
    "Transform dataset into a clean, numeric, model-ready form that accurately represents variables and preserves their meaning."
   ]
  },
  {
   "cell_type": "markdown",
   "id": "c8bce864-aad2-43ca-ab0b-b91684e0287d",
   "metadata": {},
   "source": [
    "| Type                      | Examples                                   | Strategy                                    |\n",
    "| ------------------------- | ------------------------------------------ | ------------------------------------------- |\n",
    "| **Categorical (Nominal)** | Gender, Race, Employment                   | One-Hot Encoding                            |\n",
    "| **Ordinal**               | Physical, Mental, Dental Health            | Keep as numeric (values 1–5 represent rank) |\n",
    "| **Binary**                | Pain/Stress/Medication Keeps from Sleeping | Keep as 0/1                                 |\n",
    "| **Target Variable**       | Trouble Sleeping                           | 0 = No, 1 = Yes                             |\n"
   ]
  },
  {
   "cell_type": "markdown",
   "id": "10607b7f-a899-4e0b-b759-f49ca538dc71",
   "metadata": {},
   "source": [
    "### Group columns and handle missing data"
   ]
  },
  {
   "cell_type": "code",
   "execution_count": 5,
   "id": "11668a3c-68d5-46f0-b75b-002977147f40",
   "metadata": {},
   "outputs": [
    {
     "name": "stdout",
     "output_type": "stream",
     "text": [
      "['Number_of_Doctors_Visited', 'Age', 'Physical_Health', 'Mental_Health', 'Dental_Health', 'Employment', 'Stress_Keeps_Patient_from_Sleeping', 'Medication_Keeps_Patient_from_Sleeping', 'Pain_Keeps_Patient_from_Sleeping', 'Bathroom_Needs_Keeps_Patient_from_Sleeping', 'Uknown_Keeps_Patient_from_Sleeping', 'Trouble_Sleeping', 'Prescription_Sleep_Medication', 'Race', 'Gender']\n"
     ]
    }
   ],
   "source": [
    "print(df.columns.tolist())"
   ]
  },
  {
   "cell_type": "code",
   "execution_count": 6,
   "id": "59ad03b0-79f9-41c7-9e90-2cd4a78bd5b0",
   "metadata": {},
   "outputs": [
    {
     "name": "stdout",
     "output_type": "stream",
     "text": [
      "2\n"
     ]
    }
   ],
   "source": [
    "# Separate categorical and numeric columns\n",
    "categorical_cols = ['Gender', 'Race', 'Employment']\n",
    "\n",
    "ordinal_cols = ['Physical_Health', 'Mental_Health', 'Dental_Health']\n",
    "binary_cols = [\n",
    "    'Stress_Keeps_Patient_from_Sleeping',\n",
    "    'Medication_Keeps_Patient_from_Sleeping',\n",
    "    'Pain_Keeps_Patient_from_Sleeping',\n",
    "    'Bathroom_Needs_Keeps_Patient_from_Sleeping',\n",
    "    'Uknown_Keeps_Patient_from_Sleeping'\n",
    "]\n",
    "\n",
    "# Fill missing categorical values with 'Unknown'\n",
    "df[categorical_cols] = df[categorical_cols].fillna('Unknown')\n",
    "\n",
    "# Remove missing target if it exist\n",
    "print(df['Trouble_Sleeping'].isna().sum())\n",
    "\n",
    "df = df.dropna(subset=['Trouble_Sleeping'])\n",
    "\n",
    "# Fill missing ordinal or binary values with median\n",
    "df[ordinal_cols + binary_cols] = df[ordinal_cols + binary_cols].fillna(\n",
    "    df[ordinal_cols + binary_cols].median()\n",
    ")"
   ]
  },
  {
   "cell_type": "markdown",
   "id": "443b2ef2-39a6-4aa9-baf9-a7267ca5af61",
   "metadata": {},
   "source": [
    "### 🔢 Encode Categorical Variables"
   ]
  },
  {
   "cell_type": "code",
   "execution_count": 7,
   "id": "880f2688-3993-4fbd-820c-e0789afe82d5",
   "metadata": {},
   "outputs": [],
   "source": [
    "# Define preprocessor\n",
    "preprocessor = ColumnTransformer(\n",
    "    transformers=[\n",
    "        ('cat', OneHotEncoder(drop='first', handle_unknown='ignore'), categorical_cols)\n",
    "    ],\n",
    "    remainder='passthrough'  # leave other columns as-is\n",
    ")\n"
   ]
  },
  {
   "cell_type": "markdown",
   "id": "b40fba11-7596-44f9-b2bd-ea08ad11e023",
   "metadata": {},
   "source": [
    "### Define Target and split data into test and train set"
   ]
  },
  {
   "cell_type": "code",
   "execution_count": 8,
   "id": "db8b7439-6998-415b-975b-78a22a344403",
   "metadata": {},
   "outputs": [],
   "source": [
    "# Define label\n",
    "X = df.drop(columns=['Trouble_Sleeping'])\n",
    "y = df['Trouble_Sleeping']\n",
    "\n",
    "# Split into test-train\n",
    "# stratify=y ensures that both “Yes” and “No” categories appear in similar proportions across training and test data\n",
    "X_train, X_test, y_train, y_test = train_test_split(\n",
    "    X, y, test_size=0.25, random_state=42, stratify=y\n",
    ")"
   ]
  },
  {
   "cell_type": "markdown",
   "id": "81cb38df-79ed-4346-8bc7-e70a100c239f",
   "metadata": {},
   "source": [
    "### Verify Preprocessing Pipeline Works"
   ]
  },
  {
   "cell_type": "code",
   "execution_count": 9,
   "id": "73c5e5c6-e9f8-49bb-b2ae-519451f84231",
   "metadata": {},
   "outputs": [
    {
     "name": "stdout",
     "output_type": "stream",
     "text": [
      "Transformed training set shape: (534, 19)\n",
      "-----\n",
      "Train distribution:\n",
      " Trouble_Sleeping\n",
      "3.0    0.503745\n",
      "2.0    0.408240\n",
      "1.0    0.088015\n",
      "Name: proportion, dtype: float64\n",
      "\n",
      "Test distribution:\n",
      " Trouble_Sleeping\n",
      "3.0    0.505618\n",
      "2.0    0.410112\n",
      "1.0    0.084270\n",
      "Name: proportion, dtype: float64\n"
     ]
    }
   ],
   "source": [
    "X_train_transformed = preprocessor.fit_transform(X_train)\n",
    "X_test_transformed = preprocessor.transform(X_test)\n",
    "\n",
    "# Confirm Class Balance\n",
    "print(\"Transformed training set shape:\", X_train_transformed.shape)\n",
    "print('-----')\n",
    "print(\"Train distribution:\\n\", y_train.value_counts(normalize=True))\n",
    "print(\"\\nTest distribution:\\n\", y_test.value_counts(normalize=True))\n"
   ]
  },
  {
   "cell_type": "markdown",
   "id": "fb0aa2a3-797f-49ea-ad07-1bd4855a4183",
   "metadata": {},
   "source": [
    "### Feature Scaling\n",
    "Tree-based models like Random Forest and XGBoost don’t require scaling.\n",
    "But for Logistic Regression, scaling helps model convergence."
   ]
  },
  {
   "cell_type": "code",
   "execution_count": 15,
   "id": "be3eb610-6a26-4756-bf64-1f0bfb98ff52",
   "metadata": {},
   "outputs": [
    {
     "name": "stdout",
     "output_type": "stream",
     "text": [
      "Remaining NaNs in training data: 0\n",
      "Remaining NaNs in test data: 0\n"
     ]
    }
   ],
   "source": [
    "model = Pipeline(steps=[\n",
    "    ('preprocessor', preprocessor),\n",
    "    ('scaler', StandardScaler(with_mean=False)),  # compatible with sparse matrix\n",
    "    ('classifier', LogisticRegression(max_iter=1000))\n",
    "])\n",
    "# Verify all NaNs are gone\n",
    "print(\"Remaining NaNs in training data:\", X_train.isna().sum().sum())\n",
    "print(\"Remaining NaNs in test data:\", X_test.isna().sum().sum())\n"
   ]
  },
  {
   "cell_type": "code",
   "execution_count": 11,
   "id": "b4d02ebc-77c8-4e03-9ccf-362fffbfd890",
   "metadata": {},
   "outputs": [],
   "source": [
    "### Systematically replace all missing values"
   ]
  },
  {
   "cell_type": "code",
   "execution_count": 14,
   "id": "1d06ee48-3f27-4e32-bcb1-d6b894afebe1",
   "metadata": {},
   "outputs": [
    {
     "name": "stdout",
     "output_type": "stream",
     "text": [
      "Remaining NaNs in training data: 0\n",
      "Remaining NaNs in test data: 0\n"
     ]
    }
   ],
   "source": [
    "# Separate numeric and categorical columns\n",
    "numeric_cols = X_train.select_dtypes(include=['int64', 'float64']).columns\n",
    "categorical_cols = X_train.select_dtypes(exclude=['int64', 'float64']).columns\n",
    "\n",
    "# Numeric imputation (always safe)\n",
    "num_imputer = SimpleImputer(strategy='median')\n",
    "X_train[numeric_cols] = num_imputer.fit_transform(X_train[numeric_cols])\n",
    "X_test[numeric_cols] = num_imputer.transform(X_test[numeric_cols])\n",
    "\n",
    "# Only do categorical imputation if such columns exist\n",
    "if len(categorical_cols) > 0:\n",
    "    cat_imputer = SimpleImputer(strategy='most_frequent')\n",
    "    X_train[categorical_cols] = cat_imputer.fit_transform(X_train[categorical_cols])\n",
    "    X_test[categorical_cols] = cat_imputer.transform(X_test[categorical_cols])\n",
    "\n",
    "# Verify all NaNs are gone\n",
    "print(\"Remaining NaNs in training data:\", X_train.isna().sum().sum())\n",
    "print(\"Remaining NaNs in test data:\", X_test.isna().sum().sum())\n"
   ]
  },
  {
   "cell_type": "markdown",
   "id": "00aee100-ca14-45c3-86b8-f72d6496ab7b",
   "metadata": {},
   "source": [
    "### Model and evaluate"
   ]
  },
  {
   "cell_type": "code",
   "execution_count": 17,
   "id": "5b6df025-a5b6-454a-974e-97eedbc00a7f",
   "metadata": {},
   "outputs": [
    {
     "name": "stdout",
     "output_type": "stream",
     "text": [
      "Logistic Regression Performance:\n",
      "Accuracy: 0.6067415730337079\n",
      "\n",
      "Classification Report:\n",
      "               precision    recall  f1-score   support\n",
      "\n",
      "         1.0       0.80      0.27      0.40        15\n",
      "         2.0       0.54      0.45      0.49        73\n",
      "         3.0       0.63      0.79      0.70        90\n",
      "\n",
      "    accuracy                           0.61       178\n",
      "   macro avg       0.66      0.50      0.53       178\n",
      "weighted avg       0.61      0.61      0.59       178\n",
      "\n",
      "\n",
      "Random Forest Performance:\n",
      "Accuracy: 0.5168539325842697\n",
      "\n",
      "Classification Report:\n",
      "               precision    recall  f1-score   support\n",
      "\n",
      "         1.0       0.33      0.07      0.11        15\n",
      "         2.0       0.45      0.45      0.45        73\n",
      "         3.0       0.57      0.64      0.60        90\n",
      "\n",
      "    accuracy                           0.52       178\n",
      "   macro avg       0.45      0.39      0.39       178\n",
      "weighted avg       0.50      0.52      0.50       178\n",
      "\n"
     ]
    },
    {
     "data": {
      "image/png": "[encoded data removed]",
      "text/plain": [
       "<Figure size 500x400 with 1 Axes>"
      ]
     },
     "metadata": {},
     "output_type": "display_data"
    },
    {
     "data": {
      "image/png": "[encoded data removed]",
      "text/plain": [
       "<Figure size 800x500 with 1 Axes>"
      ]
     },
     "metadata": {},
     "output_type": "display_data"
    }
   ],
   "source": [
    "# --- 1️⃣ Logistic Regression ---\n",
    "log_reg = LogisticRegression(max_iter=1000, random_state=42)\n",
    "log_reg.fit(X_train, y_train)\n",
    "\n",
    "y_pred_log = log_reg.predict(X_test)\n",
    "\n",
    "print(\"Logistic Regression Performance:\")\n",
    "print(\"Accuracy:\", accuracy_score(y_test, y_pred_log))\n",
    "print(\"\\nClassification Report:\\n\", classification_report(y_test, y_pred_log))\n",
    "\n",
    "# --- 2️⃣ Random Forest ---\n",
    "rf = RandomForestClassifier(n_estimators=200, random_state=42)\n",
    "rf.fit(X_train, y_train)\n",
    "\n",
    "y_pred_rf = rf.predict(X_test)\n",
    "\n",
    "print(\"\\nRandom Forest Performance:\")\n",
    "print(\"Accuracy:\", accuracy_score(y_test, y_pred_rf))\n",
    "print(\"\\nClassification Report:\\n\", classification_report(y_test, y_pred_rf))\n",
    "\n",
    "# --- 3️⃣ Confusion Matrix (for Random Forest) ---\n",
    "cm = confusion_matrix(y_test, y_pred_rf)\n",
    "plt.figure(figsize=(5,4))\n",
    "sns.heatmap(cm, annot=True, fmt='d', cmap='Blues', cbar=False)\n",
    "plt.title(\"Random Forest Confusion Matrix\")\n",
    "plt.xlabel(\"Predicted\")\n",
    "plt.ylabel(\"Actual\")\n",
    "\n",
    "# --- 4️⃣ Feature Importance (Random Forest) ---\n",
    "importances = rf.feature_importances_\n",
    "indices = importances.argsort()[::-1]\n",
    "\n",
    "plt.figure(figsize=(8,5))\n",
    "plt.barh(range(len(indices)), importances[indices][::-1], align='center')\n",
    "plt.yticks(range(len(indices)), [X_train.columns[i] for i in indices][::-1])\n",
    "plt.title(\"Feature Importance — Random Forest\")\n",
    "plt.xlabel(\"Importance\")\n",
    "plt.tight_layout()"
   ]
  },
  {
   "cell_type": "code",
   "execution_count": null,
   "id": "d7f754c7-dfbf-41ea-bb0d-d6a9c7e7e1e2",
   "metadata": {},
   "outputs": [],
   "source": []
  }
 ],
 "metadata": {
  "kernelspec": {
   "display_name": "Python 3 (ipykernel)",
   "language": "python",
   "name": "python3"
  },
  "language_info": {
   "codemirror_mode": {
    "name": "ipython",
    "version": 3
   },
   "file_extension": ".py",
   "mimetype": "text/x-python",
   "name": "python",
   "nbconvert_exporter": "python",
   "pygments_lexer": "ipython3",
   "version": "3.12.1"
  }
 },
 "nbformat": 4,
 "nbformat_minor": 5
}
